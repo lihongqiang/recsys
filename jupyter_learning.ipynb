{
 "cells": [
  {
   "cell_type": "markdown",
   "metadata": {},
   "source": [
    "* 前言\n",
    "* 开始准备用jupyter写推荐，强化学习和大数据相关的项目，打算通过这个方式激励学习实验能力，打发无聊时光。\n",
    "* 2019-01-07"
   ]
  },
  {
   "cell_type": "markdown",
   "metadata": {},
   "source": [
    "### shell 交互"
   ]
  },
  {
   "cell_type": "code",
   "execution_count": null,
   "metadata": {},
   "outputs": [],
   "source": [
    "files = !ls\n",
    "print files\n",
    "directory = !pwd\n",
    "print type(directory), directory[0]"
   ]
  },
  {
   "cell_type": "markdown",
   "metadata": {},
   "source": [
    "### 风格变换"
   ]
  },
  {
   "cell_type": "code",
   "execution_count": 1,
   "metadata": {},
   "outputs": [
    {
     "name": "stdout",
     "output_type": "stream",
     "text": [
      "Available Themes: \r\n",
      "   chesterish\r\n",
      "   grade3\r\n",
      "   gruvboxd\r\n",
      "   gruvboxl\r\n",
      "   monokai\r\n",
      "   oceans16\r\n",
      "   onedork\r\n",
      "   solarizedd\r\n",
      "   solarizedl\r\n"
     ]
    }
   ],
   "source": [
    "!jt - l\n",
    "!jt - t chesterish\n",
    "!jt - r"
   ]
  },
  {
   "cell_type": "markdown",
   "metadata": {},
   "source": [
    "### grid表格操作"
   ]
  },
  {
   "cell_type": "code",
   "execution_count": 4,
   "metadata": {},
   "outputs": [
    {
     "data": {
      "text/html": [
       "<div>\n",
       "<style scoped>\n",
       "    .dataframe tbody tr th:only-of-type {\n",
       "        vertical-align: middle;\n",
       "    }\n",
       "\n",
       "    .dataframe tbody tr th {\n",
       "        vertical-align: top;\n",
       "    }\n",
       "\n",
       "    .dataframe thead th {\n",
       "        text-align: right;\n",
       "    }\n",
       "</style>\n",
       "<table border=\"1\" class=\"dataframe\">\n",
       "  <thead>\n",
       "    <tr style=\"text-align: right;\">\n",
       "      <th></th>\n",
       "      <th>a</th>\n",
       "      <th>b</th>\n",
       "    </tr>\n",
       "  </thead>\n",
       "  <tbody>\n",
       "    <tr>\n",
       "      <th>0</th>\n",
       "      <td>0</td>\n",
       "      <td>0</td>\n",
       "    </tr>\n",
       "    <tr>\n",
       "      <th>1</th>\n",
       "      <td>1</td>\n",
       "      <td>1</td>\n",
       "    </tr>\n",
       "    <tr>\n",
       "      <th>2</th>\n",
       "      <td>2</td>\n",
       "      <td>2</td>\n",
       "    </tr>\n",
       "    <tr>\n",
       "      <th>3</th>\n",
       "      <td>3</td>\n",
       "      <td>3</td>\n",
       "    </tr>\n",
       "    <tr>\n",
       "      <th>4</th>\n",
       "      <td>4</td>\n",
       "      <td>4</td>\n",
       "    </tr>\n",
       "  </tbody>\n",
       "</table>\n",
       "</div>"
      ],
      "text/plain": [
       "   a  b\n",
       "0  0  0\n",
       "1  1  1\n",
       "2  2  2\n",
       "3  3  3\n",
       "4  4  4"
      ]
     },
     "execution_count": 4,
     "metadata": {},
     "output_type": "execute_result"
    }
   ],
   "source": [
    "import numpy as np\n",
    "import pandas as pd\n",
    "dlist = list(range(10))\n",
    "data = pd.DataFrame({'a': dlist, 'b': dlist})\n",
    "data.head()"
   ]
  },
  {
   "cell_type": "code",
   "execution_count": 2,
   "metadata": {},
   "outputs": [
    {
     "data": {
      "application/vnd.jupyter.widget-view+json": {
       "model_id": "060a8d0d9021400194c5ba6126d2d4d4",
       "version_major": 2,
       "version_minor": 0
      },
      "text/plain": [
       "UWdyaWRXaWRnZXQoZ3JpZF9vcHRpb25zPXsnaGlnaGxpZ2h0U2VsZWN0ZWRSb3cnOiBUcnVlLCAnZnVsbFdpZHRoUm93cyc6IFRydWUsICdyb3dIZWlnaHQnOiAyOCwgJ2VuYWJsZUNvbHVtblLigKY=\n"
      ]
     },
     "metadata": {},
     "output_type": "display_data"
    }
   ],
   "source": [
    "import qgrid\n",
    "qgrid_widget = qgrid.show_grid(data, show_toolbar=True)\n",
    "qgrid_widget"
   ]
  },
  {
   "cell_type": "markdown",
   "metadata": {},
   "source": [
    "### 制图工具 Altair"
   ]
  },
  {
   "cell_type": "code",
   "execution_count": 7,
   "metadata": {},
   "outputs": [
    {
     "data": {
      "application/javascript": [
       "var spec = {\"datasets\": {\"data-a264acbd6e539a8b3afc0cb5f240fb57\": [{\"sepalLength\": 5.1, \"petalWidth\": 0.2, \"petalLength\": 1.4, \"species\": \"setosa\", \"sepalWidth\": 3.5}, {\"sepalLength\": 4.9, \"petalWidth\": 0.2, \"petalLength\": 1.4, \"species\": \"setosa\", \"sepalWidth\": 3.0}, {\"sepalLength\": 4.7, \"petalWidth\": 0.2, \"petalLength\": 1.3, \"species\": \"setosa\", \"sepalWidth\": 3.2}, {\"sepalLength\": 4.6, \"petalWidth\": 0.2, \"petalLength\": 1.5, \"species\": \"setosa\", \"sepalWidth\": 3.1}, {\"sepalLength\": 5.0, \"petalWidth\": 0.2, \"petalLength\": 1.4, \"species\": \"setosa\", \"sepalWidth\": 3.6}, {\"sepalLength\": 5.4, \"petalWidth\": 0.4, \"petalLength\": 1.7000000000000002, \"species\": \"setosa\", \"sepalWidth\": 3.9}, {\"sepalLength\": 4.6, \"petalWidth\": 0.30000000000000004, \"petalLength\": 1.4, \"species\": \"setosa\", \"sepalWidth\": 3.4}, {\"sepalLength\": 5.0, \"petalWidth\": 0.2, \"petalLength\": 1.5, \"species\": \"setosa\", \"sepalWidth\": 3.4}, {\"sepalLength\": 4.4, \"petalWidth\": 0.2, \"petalLength\": 1.4, \"species\": \"setosa\", \"sepalWidth\": 2.9}, {\"sepalLength\": 4.9, \"petalWidth\": 0.1, \"petalLength\": 1.5, \"species\": \"setosa\", \"sepalWidth\": 3.1}, {\"sepalLength\": 5.4, \"petalWidth\": 0.2, \"petalLength\": 1.5, \"species\": \"setosa\", \"sepalWidth\": 3.7}, {\"sepalLength\": 4.8, \"petalWidth\": 0.2, \"petalLength\": 1.6, \"species\": \"setosa\", \"sepalWidth\": 3.4}, {\"sepalLength\": 4.8, \"petalWidth\": 0.1, \"petalLength\": 1.4, \"species\": \"setosa\", \"sepalWidth\": 3.0}, {\"sepalLength\": 4.3, \"petalWidth\": 0.1, \"petalLength\": 1.1, \"species\": \"setosa\", \"sepalWidth\": 3.0}, {\"sepalLength\": 5.8, \"petalWidth\": 0.2, \"petalLength\": 1.2, \"species\": \"setosa\", \"sepalWidth\": 4.0}, {\"sepalLength\": 5.7, \"petalWidth\": 0.4, \"petalLength\": 1.5, \"species\": \"setosa\", \"sepalWidth\": 4.4}, {\"sepalLength\": 5.4, \"petalWidth\": 0.4, \"petalLength\": 1.3, \"species\": \"setosa\", \"sepalWidth\": 3.9}, {\"sepalLength\": 5.1, \"petalWidth\": 0.30000000000000004, \"petalLength\": 1.4, \"species\": \"setosa\", \"sepalWidth\": 3.5}, {\"sepalLength\": 5.7, \"petalWidth\": 0.30000000000000004, \"petalLength\": 1.7000000000000002, \"species\": \"setosa\", \"sepalWidth\": 3.8}, {\"sepalLength\": 5.1, \"petalWidth\": 0.30000000000000004, \"petalLength\": 1.5, \"species\": \"setosa\", \"sepalWidth\": 3.8}, {\"sepalLength\": 5.4, \"petalWidth\": 0.2, \"petalLength\": 1.7000000000000002, \"species\": \"setosa\", \"sepalWidth\": 3.4}, {\"sepalLength\": 5.1, \"petalWidth\": 0.4, \"petalLength\": 1.5, \"species\": \"setosa\", \"sepalWidth\": 3.7}, {\"sepalLength\": 4.6, \"petalWidth\": 0.2, \"petalLength\": 1.0, \"species\": \"setosa\", \"sepalWidth\": 3.6}, {\"sepalLength\": 5.1, \"petalWidth\": 0.5, \"petalLength\": 1.7000000000000002, \"species\": \"setosa\", \"sepalWidth\": 3.3}, {\"sepalLength\": 4.8, \"petalWidth\": 0.2, \"petalLength\": 1.9, \"species\": \"setosa\", \"sepalWidth\": 3.4}, {\"sepalLength\": 5.0, \"petalWidth\": 0.2, \"petalLength\": 1.6, \"species\": \"setosa\", \"sepalWidth\": 3.0}, {\"sepalLength\": 5.0, \"petalWidth\": 0.4, \"petalLength\": 1.6, \"species\": \"setosa\", \"sepalWidth\": 3.4}, {\"sepalLength\": 5.2, \"petalWidth\": 0.2, \"petalLength\": 1.5, \"species\": \"setosa\", \"sepalWidth\": 3.5}, {\"sepalLength\": 5.2, \"petalWidth\": 0.2, \"petalLength\": 1.4, \"species\": \"setosa\", \"sepalWidth\": 3.4}, {\"sepalLength\": 4.7, \"petalWidth\": 0.2, \"petalLength\": 1.6, \"species\": \"setosa\", \"sepalWidth\": 3.2}, {\"sepalLength\": 4.8, \"petalWidth\": 0.2, \"petalLength\": 1.6, \"species\": \"setosa\", \"sepalWidth\": 3.1}, {\"sepalLength\": 5.4, \"petalWidth\": 0.4, \"petalLength\": 1.5, \"species\": \"setosa\", \"sepalWidth\": 3.4}, {\"sepalLength\": 5.2, \"petalWidth\": 0.1, \"petalLength\": 1.5, \"species\": \"setosa\", \"sepalWidth\": 4.1}, {\"sepalLength\": 5.5, \"petalWidth\": 0.2, \"petalLength\": 1.4, \"species\": \"setosa\", \"sepalWidth\": 4.2}, {\"sepalLength\": 4.9, \"petalWidth\": 0.2, \"petalLength\": 1.5, \"species\": \"setosa\", \"sepalWidth\": 3.1}, {\"sepalLength\": 5.0, \"petalWidth\": 0.2, \"petalLength\": 1.2, \"species\": \"setosa\", \"sepalWidth\": 3.2}, {\"sepalLength\": 5.5, \"petalWidth\": 0.2, \"petalLength\": 1.3, \"species\": \"setosa\", \"sepalWidth\": 3.5}, {\"sepalLength\": 4.9, \"petalWidth\": 0.1, \"petalLength\": 1.4, \"species\": \"setosa\", \"sepalWidth\": 3.6}, {\"sepalLength\": 4.4, \"petalWidth\": 0.2, \"petalLength\": 1.3, \"species\": \"setosa\", \"sepalWidth\": 3.0}, {\"sepalLength\": 5.1, \"petalWidth\": 0.2, \"petalLength\": 1.5, \"species\": \"setosa\", \"sepalWidth\": 3.4}, {\"sepalLength\": 5.0, \"petalWidth\": 0.30000000000000004, \"petalLength\": 1.3, \"species\": \"setosa\", \"sepalWidth\": 3.5}, {\"sepalLength\": 4.5, \"petalWidth\": 0.30000000000000004, \"petalLength\": 1.3, \"species\": \"setosa\", \"sepalWidth\": 2.3}, {\"sepalLength\": 4.4, \"petalWidth\": 0.2, \"petalLength\": 1.3, \"species\": \"setosa\", \"sepalWidth\": 3.2}, {\"sepalLength\": 5.0, \"petalWidth\": 0.6000000000000001, \"petalLength\": 1.6, \"species\": \"setosa\", \"sepalWidth\": 3.5}, {\"sepalLength\": 5.1, \"petalWidth\": 0.4, \"petalLength\": 1.9, \"species\": \"setosa\", \"sepalWidth\": 3.8}, {\"sepalLength\": 4.8, \"petalWidth\": 0.30000000000000004, \"petalLength\": 1.4, \"species\": \"setosa\", \"sepalWidth\": 3.0}, {\"sepalLength\": 5.1, \"petalWidth\": 0.2, \"petalLength\": 1.6, \"species\": \"setosa\", \"sepalWidth\": 3.8}, {\"sepalLength\": 4.6, \"petalWidth\": 0.2, \"petalLength\": 1.4, \"species\": \"setosa\", \"sepalWidth\": 3.2}, {\"sepalLength\": 5.3, \"petalWidth\": 0.2, \"petalLength\": 1.5, \"species\": \"setosa\", \"sepalWidth\": 3.7}, {\"sepalLength\": 5.0, \"petalWidth\": 0.2, \"petalLength\": 1.4, \"species\": \"setosa\", \"sepalWidth\": 3.3}, {\"sepalLength\": 7.0, \"petalWidth\": 1.4, \"petalLength\": 4.7, \"species\": \"versicolor\", \"sepalWidth\": 3.2}, {\"sepalLength\": 6.4, \"petalWidth\": 1.5, \"petalLength\": 4.5, \"species\": \"versicolor\", \"sepalWidth\": 3.2}, {\"sepalLength\": 6.9, \"petalWidth\": 1.5, \"petalLength\": 4.9, \"species\": \"versicolor\", \"sepalWidth\": 3.1}, {\"sepalLength\": 5.5, \"petalWidth\": 1.3, \"petalLength\": 4.0, \"species\": \"versicolor\", \"sepalWidth\": 2.3}, {\"sepalLength\": 6.5, \"petalWidth\": 1.5, \"petalLength\": 4.6, \"species\": \"versicolor\", \"sepalWidth\": 2.8}, {\"sepalLength\": 5.7, \"petalWidth\": 1.3, \"petalLength\": 4.5, \"species\": \"versicolor\", \"sepalWidth\": 2.8}, {\"sepalLength\": 6.3, \"petalWidth\": 1.6, \"petalLength\": 4.7, \"species\": \"versicolor\", \"sepalWidth\": 3.3}, {\"sepalLength\": 4.9, \"petalWidth\": 1.0, \"petalLength\": 3.3, \"species\": \"versicolor\", \"sepalWidth\": 2.4}, {\"sepalLength\": 6.6, \"petalWidth\": 1.3, \"petalLength\": 4.6, \"species\": \"versicolor\", \"sepalWidth\": 2.9}, {\"sepalLength\": 5.2, \"petalWidth\": 1.4, \"petalLength\": 3.9, \"species\": \"versicolor\", \"sepalWidth\": 2.7}, {\"sepalLength\": 5.0, \"petalWidth\": 1.0, \"petalLength\": 3.5, \"species\": \"versicolor\", \"sepalWidth\": 2.0}, {\"sepalLength\": 5.9, \"petalWidth\": 1.5, \"petalLength\": 4.2, \"species\": \"versicolor\", \"sepalWidth\": 3.0}, {\"sepalLength\": 6.0, \"petalWidth\": 1.0, \"petalLength\": 4.0, \"species\": \"versicolor\", \"sepalWidth\": 2.2}, {\"sepalLength\": 6.1, \"petalWidth\": 1.4, \"petalLength\": 4.7, \"species\": \"versicolor\", \"sepalWidth\": 2.9}, {\"sepalLength\": 5.6, \"petalWidth\": 1.3, \"petalLength\": 3.6, \"species\": \"versicolor\", \"sepalWidth\": 2.9}, {\"sepalLength\": 6.7, \"petalWidth\": 1.4, \"petalLength\": 4.4, \"species\": \"versicolor\", \"sepalWidth\": 3.1}, {\"sepalLength\": 5.6, \"petalWidth\": 1.5, \"petalLength\": 4.5, \"species\": \"versicolor\", \"sepalWidth\": 3.0}, {\"sepalLength\": 5.8, \"petalWidth\": 1.0, \"petalLength\": 4.1, \"species\": \"versicolor\", \"sepalWidth\": 2.7}, {\"sepalLength\": 6.2, \"petalWidth\": 1.5, \"petalLength\": 4.5, \"species\": \"versicolor\", \"sepalWidth\": 2.2}, {\"sepalLength\": 5.6, \"petalWidth\": 1.1, \"petalLength\": 3.9, \"species\": \"versicolor\", \"sepalWidth\": 2.5}, {\"sepalLength\": 5.9, \"petalWidth\": 1.8, \"petalLength\": 4.8, \"species\": \"versicolor\", \"sepalWidth\": 3.2}, {\"sepalLength\": 6.1, \"petalWidth\": 1.3, \"petalLength\": 4.0, \"species\": \"versicolor\", \"sepalWidth\": 2.8}, {\"sepalLength\": 6.3, \"petalWidth\": 1.5, \"petalLength\": 4.9, \"species\": \"versicolor\", \"sepalWidth\": 2.5}, {\"sepalLength\": 6.1, \"petalWidth\": 1.2, \"petalLength\": 4.7, \"species\": \"versicolor\", \"sepalWidth\": 2.8}, {\"sepalLength\": 6.4, \"petalWidth\": 1.3, \"petalLength\": 4.3, \"species\": \"versicolor\", \"sepalWidth\": 2.9}, {\"sepalLength\": 6.6, \"petalWidth\": 1.4, \"petalLength\": 4.4, \"species\": \"versicolor\", \"sepalWidth\": 3.0}, {\"sepalLength\": 6.8, \"petalWidth\": 1.4, \"petalLength\": 4.8, \"species\": \"versicolor\", \"sepalWidth\": 2.8}, {\"sepalLength\": 6.7, \"petalWidth\": 1.7000000000000002, \"petalLength\": 5.0, \"species\": \"versicolor\", \"sepalWidth\": 3.0}, {\"sepalLength\": 6.0, \"petalWidth\": 1.5, \"petalLength\": 4.5, \"species\": \"versicolor\", \"sepalWidth\": 2.9}, {\"sepalLength\": 5.7, \"petalWidth\": 1.0, \"petalLength\": 3.5, \"species\": \"versicolor\", \"sepalWidth\": 2.6}, {\"sepalLength\": 5.5, \"petalWidth\": 1.1, \"petalLength\": 3.8, \"species\": \"versicolor\", \"sepalWidth\": 2.4}, {\"sepalLength\": 5.5, \"petalWidth\": 1.0, \"petalLength\": 3.7, \"species\": \"versicolor\", \"sepalWidth\": 2.4}, {\"sepalLength\": 5.8, \"petalWidth\": 1.2, \"petalLength\": 3.9, \"species\": \"versicolor\", \"sepalWidth\": 2.7}, {\"sepalLength\": 6.0, \"petalWidth\": 1.6, \"petalLength\": 5.1, \"species\": \"versicolor\", \"sepalWidth\": 2.7}, {\"sepalLength\": 5.4, \"petalWidth\": 1.5, \"petalLength\": 4.5, \"species\": \"versicolor\", \"sepalWidth\": 3.0}, {\"sepalLength\": 6.0, \"petalWidth\": 1.6, \"petalLength\": 4.5, \"species\": \"versicolor\", \"sepalWidth\": 3.4}, {\"sepalLength\": 6.7, \"petalWidth\": 1.5, \"petalLength\": 4.7, \"species\": \"versicolor\", \"sepalWidth\": 3.1}, {\"sepalLength\": 6.3, \"petalWidth\": 1.3, \"petalLength\": 4.4, \"species\": \"versicolor\", \"sepalWidth\": 2.3}, {\"sepalLength\": 5.6, \"petalWidth\": 1.3, \"petalLength\": 4.1, \"species\": \"versicolor\", \"sepalWidth\": 3.0}, {\"sepalLength\": 5.5, \"petalWidth\": 1.3, \"petalLength\": 4.0, \"species\": \"versicolor\", \"sepalWidth\": 2.5}, {\"sepalLength\": 5.5, \"petalWidth\": 1.2, \"petalLength\": 4.4, \"species\": \"versicolor\", \"sepalWidth\": 2.6}, {\"sepalLength\": 6.1, \"petalWidth\": 1.4, \"petalLength\": 4.6, \"species\": \"versicolor\", \"sepalWidth\": 3.0}, {\"sepalLength\": 5.8, \"petalWidth\": 1.2, \"petalLength\": 4.0, \"species\": \"versicolor\", \"sepalWidth\": 2.6}, {\"sepalLength\": 5.0, \"petalWidth\": 1.0, \"petalLength\": 3.3, \"species\": \"versicolor\", \"sepalWidth\": 2.3}, {\"sepalLength\": 5.6, \"petalWidth\": 1.3, \"petalLength\": 4.2, \"species\": \"versicolor\", \"sepalWidth\": 2.7}, {\"sepalLength\": 5.7, \"petalWidth\": 1.2, \"petalLength\": 4.2, \"species\": \"versicolor\", \"sepalWidth\": 3.0}, {\"sepalLength\": 5.7, \"petalWidth\": 1.3, \"petalLength\": 4.2, \"species\": \"versicolor\", \"sepalWidth\": 2.9}, {\"sepalLength\": 6.2, \"petalWidth\": 1.3, \"petalLength\": 4.3, \"species\": \"versicolor\", \"sepalWidth\": 2.9}, {\"sepalLength\": 5.1, \"petalWidth\": 1.1, \"petalLength\": 3.0, \"species\": \"versicolor\", \"sepalWidth\": 2.5}, {\"sepalLength\": 5.7, \"petalWidth\": 1.3, \"petalLength\": 4.1, \"species\": \"versicolor\", \"sepalWidth\": 2.8}, {\"sepalLength\": 6.3, \"petalWidth\": 2.5, \"petalLength\": 6.0, \"species\": \"virginica\", \"sepalWidth\": 3.3}, {\"sepalLength\": 5.8, \"petalWidth\": 1.9, \"petalLength\": 5.1, \"species\": \"virginica\", \"sepalWidth\": 2.7}, {\"sepalLength\": 7.1, \"petalWidth\": 2.1, \"petalLength\": 5.9, \"species\": \"virginica\", \"sepalWidth\": 3.0}, {\"sepalLength\": 6.3, \"petalWidth\": 1.8, \"petalLength\": 5.6, \"species\": \"virginica\", \"sepalWidth\": 2.9}, {\"sepalLength\": 6.5, \"petalWidth\": 2.2, \"petalLength\": 5.8, \"species\": \"virginica\", \"sepalWidth\": 3.0}, {\"sepalLength\": 7.6, \"petalWidth\": 2.1, \"petalLength\": 6.6, \"species\": \"virginica\", \"sepalWidth\": 3.0}, {\"sepalLength\": 4.9, \"petalWidth\": 1.7000000000000002, \"petalLength\": 4.5, \"species\": \"virginica\", \"sepalWidth\": 2.5}, {\"sepalLength\": 7.3, \"petalWidth\": 1.8, \"petalLength\": 6.3, \"species\": \"virginica\", \"sepalWidth\": 2.9}, {\"sepalLength\": 6.7, \"petalWidth\": 1.8, \"petalLength\": 5.8, \"species\": \"virginica\", \"sepalWidth\": 2.5}, {\"sepalLength\": 7.2, \"petalWidth\": 2.5, \"petalLength\": 6.1, \"species\": \"virginica\", \"sepalWidth\": 3.6}, {\"sepalLength\": 6.5, \"petalWidth\": 2.0, \"petalLength\": 5.1, \"species\": \"virginica\", \"sepalWidth\": 3.2}, {\"sepalLength\": 6.4, \"petalWidth\": 1.9, \"petalLength\": 5.3, \"species\": \"virginica\", \"sepalWidth\": 2.7}, {\"sepalLength\": 6.8, \"petalWidth\": 2.1, \"petalLength\": 5.5, \"species\": \"virginica\", \"sepalWidth\": 3.0}, {\"sepalLength\": 5.7, \"petalWidth\": 2.0, \"petalLength\": 5.0, \"species\": \"virginica\", \"sepalWidth\": 2.5}, {\"sepalLength\": 5.8, \"petalWidth\": 2.4, \"petalLength\": 5.1, \"species\": \"virginica\", \"sepalWidth\": 2.8}, {\"sepalLength\": 6.4, \"petalWidth\": 2.3, \"petalLength\": 5.3, \"species\": \"virginica\", \"sepalWidth\": 3.2}, {\"sepalLength\": 6.5, \"petalWidth\": 1.8, \"petalLength\": 5.5, \"species\": \"virginica\", \"sepalWidth\": 3.0}, {\"sepalLength\": 7.7, \"petalWidth\": 2.2, \"petalLength\": 6.7, \"species\": \"virginica\", \"sepalWidth\": 3.8}, {\"sepalLength\": 7.7, \"petalWidth\": 2.3, \"petalLength\": 6.9, \"species\": \"virginica\", \"sepalWidth\": 2.6}, {\"sepalLength\": 6.0, \"petalWidth\": 1.5, \"petalLength\": 5.0, \"species\": \"virginica\", \"sepalWidth\": 2.2}, {\"sepalLength\": 6.9, \"petalWidth\": 2.3, \"petalLength\": 5.7, \"species\": \"virginica\", \"sepalWidth\": 3.2}, {\"sepalLength\": 5.6, \"petalWidth\": 2.0, \"petalLength\": 4.9, \"species\": \"virginica\", \"sepalWidth\": 2.8}, {\"sepalLength\": 7.7, \"petalWidth\": 2.0, \"petalLength\": 6.7, \"species\": \"virginica\", \"sepalWidth\": 2.8}, {\"sepalLength\": 6.3, \"petalWidth\": 1.8, \"petalLength\": 4.9, \"species\": \"virginica\", \"sepalWidth\": 2.7}, {\"sepalLength\": 6.7, \"petalWidth\": 2.1, \"petalLength\": 5.7, \"species\": \"virginica\", \"sepalWidth\": 3.3}, {\"sepalLength\": 7.2, \"petalWidth\": 1.8, \"petalLength\": 6.0, \"species\": \"virginica\", \"sepalWidth\": 3.2}, {\"sepalLength\": 6.2, \"petalWidth\": 1.8, \"petalLength\": 4.8, \"species\": \"virginica\", \"sepalWidth\": 2.8}, {\"sepalLength\": 6.1, \"petalWidth\": 1.8, \"petalLength\": 4.9, \"species\": \"virginica\", \"sepalWidth\": 3.0}, {\"sepalLength\": 6.4, \"petalWidth\": 2.1, \"petalLength\": 5.6, \"species\": \"virginica\", \"sepalWidth\": 2.8}, {\"sepalLength\": 7.2, \"petalWidth\": 1.6, \"petalLength\": 5.8, \"species\": \"virginica\", \"sepalWidth\": 3.0}, {\"sepalLength\": 7.4, \"petalWidth\": 1.9, \"petalLength\": 6.1, \"species\": \"virginica\", \"sepalWidth\": 2.8}, {\"sepalLength\": 7.9, \"petalWidth\": 2.0, \"petalLength\": 6.4, \"species\": \"virginica\", \"sepalWidth\": 3.8}, {\"sepalLength\": 6.4, \"petalWidth\": 2.2, \"petalLength\": 5.6, \"species\": \"virginica\", \"sepalWidth\": 2.8}, {\"sepalLength\": 6.3, \"petalWidth\": 1.5, \"petalLength\": 5.1, \"species\": \"virginica\", \"sepalWidth\": 2.8}, {\"sepalLength\": 6.1, \"petalWidth\": 1.4, \"petalLength\": 5.6, \"species\": \"virginica\", \"sepalWidth\": 2.6}, {\"sepalLength\": 7.7, \"petalWidth\": 2.3, \"petalLength\": 6.1, \"species\": \"virginica\", \"sepalWidth\": 3.0}, {\"sepalLength\": 6.3, \"petalWidth\": 2.4, \"petalLength\": 5.6, \"species\": \"virginica\", \"sepalWidth\": 3.4}, {\"sepalLength\": 6.4, \"petalWidth\": 1.8, \"petalLength\": 5.5, \"species\": \"virginica\", \"sepalWidth\": 3.1}, {\"sepalLength\": 6.0, \"petalWidth\": 1.8, \"petalLength\": 4.8, \"species\": \"virginica\", \"sepalWidth\": 3.0}, {\"sepalLength\": 6.9, \"petalWidth\": 2.1, \"petalLength\": 5.4, \"species\": \"virginica\", \"sepalWidth\": 3.1}, {\"sepalLength\": 6.7, \"petalWidth\": 2.4, \"petalLength\": 5.6, \"species\": \"virginica\", \"sepalWidth\": 3.1}, {\"sepalLength\": 6.9, \"petalWidth\": 2.3, \"petalLength\": 5.1, \"species\": \"virginica\", \"sepalWidth\": 3.1}, {\"sepalLength\": 5.8, \"petalWidth\": 1.9, \"petalLength\": 5.1, \"species\": \"virginica\", \"sepalWidth\": 2.7}, {\"sepalLength\": 6.8, \"petalWidth\": 2.3, \"petalLength\": 5.9, \"species\": \"virginica\", \"sepalWidth\": 3.2}, {\"sepalLength\": 6.7, \"petalWidth\": 2.5, \"petalLength\": 5.7, \"species\": \"virginica\", \"sepalWidth\": 3.3}, {\"sepalLength\": 6.7, \"petalWidth\": 2.3, \"petalLength\": 5.2, \"species\": \"virginica\", \"sepalWidth\": 3.0}, {\"sepalLength\": 6.3, \"petalWidth\": 1.9, \"petalLength\": 5.0, \"species\": \"virginica\", \"sepalWidth\": 2.5}, {\"sepalLength\": 6.5, \"petalWidth\": 2.0, \"petalLength\": 5.2, \"species\": \"virginica\", \"sepalWidth\": 3.0}, {\"sepalLength\": 6.2, \"petalWidth\": 2.3, \"petalLength\": 5.4, \"species\": \"virginica\", \"sepalWidth\": 3.4}, {\"sepalLength\": 5.9, \"petalWidth\": 1.8, \"petalLength\": 5.1, \"species\": \"virginica\", \"sepalWidth\": 3.0}]}, \"encoding\": {\"color\": {\"field\": \"species\", \"type\": \"nominal\"}, \"y\": {\"aggregate\": \"average\", \"field\": \"petalWidth\", \"type\": \"quantitative\"}, \"x\": {\"field\": \"petalLength\", \"type\": \"quantitative\"}}, \"config\": {\"view\": {\"width\": 400, \"height\": 300}}, \"mark\": \"point\", \"$schema\": \"https://vega.github.io/schema/vega-lite/v2.6.0.json\", \"data\": {\"name\": \"data-a264acbd6e539a8b3afc0cb5f240fb57\"}};\n",
       "var opt = {};\n",
       "var type = \"vega-lite\";\n",
       "var id = \"5c77b7f1-931c-4560-9a52-0a91890f4dbb\";\n",
       "\n",
       "var output_area = this;\n",
       "\n",
       "require([\"nbextensions/jupyter-vega/index\"], function(vega) {\n",
       "  var target = document.createElement(\"div\");\n",
       "  target.id = id;\n",
       "  target.className = \"vega-embed\";\n",
       "\n",
       "  var style = document.createElement(\"style\");\n",
       "  style.textContent = [\n",
       "    \".vega-embed .error p {\",\n",
       "    \"  color: firebrick;\",\n",
       "    \"  font-size: 14px;\",\n",
       "    \"}\",\n",
       "  ].join(\"\\\\n\");\n",
       "\n",
       "  // element is a jQuery wrapped DOM element inside the output area\n",
       "  // see http://ipython.readthedocs.io/en/stable/api/generated/\\\n",
       "  // IPython.display.html#IPython.display.Javascript.__init__\n",
       "  element[0].appendChild(target);\n",
       "  element[0].appendChild(style);\n",
       "\n",
       "  vega.render(\"#\" + id, spec, type, opt, output_area);\n",
       "}, function (err) {\n",
       "  if (err.requireType !== \"scripterror\") {\n",
       "    throw(err);\n",
       "  }\n",
       "});\n"
      ],
      "text/plain": [
       "<vega.vegalite.VegaLite at 0x7fca96d674d0>"
      ]
     },
     "metadata": {
      "jupyter-vega": "#5c77b7f1-931c-4560-9a52-0a91890f4dbb"
     },
     "output_type": "display_data"
    },
    {
     "data": {
      "text/plain": []
     },
     "execution_count": 7,
     "metadata": {},
     "output_type": "execute_result"
    },
    {
     "data": {
      "image/png": "[encoded data removed]"
     },
     "metadata": {
      "jupyter-vega": "#5c77b7f1-931c-4560-9a52-0a91890f4dbb"
     },
     "output_type": "display_data"
    }
   ],
   "source": [
    "import altair as alt\n",
    "from vega_datasets import data\n",
    "\n",
    "alt.renderers.enable('notebook')\n",
    "iris = data.iris()\n",
    "\n",
    "alt.Chart(iris).mark_point().encode(\n",
    "    x='petalLength',\n",
    "    y='average(petalWidth)',\n",
    "    color='species'\n",
    ")"
   ]
  },
  {
   "cell_type": "code",
   "execution_count": 4,
   "metadata": {},
   "outputs": [
    {
     "data": {
      "text/html": [
       "<div>\n",
       "<style scoped>\n",
       "    .dataframe tbody tr th:only-of-type {\n",
       "        vertical-align: middle;\n",
       "    }\n",
       "\n",
       "    .dataframe tbody tr th {\n",
       "        vertical-align: top;\n",
       "    }\n",
       "\n",
       "    .dataframe thead th {\n",
       "        text-align: right;\n",
       "    }\n",
       "</style>\n",
       "<table border=\"1\" class=\"dataframe\">\n",
       "  <thead>\n",
       "    <tr style=\"text-align: right;\">\n",
       "      <th></th>\n",
       "      <th>petalLength</th>\n",
       "      <th>petalWidth</th>\n",
       "      <th>sepalLength</th>\n",
       "      <th>sepalWidth</th>\n",
       "      <th>species</th>\n",
       "    </tr>\n",
       "  </thead>\n",
       "  <tbody>\n",
       "    <tr>\n",
       "      <th>0</th>\n",
       "      <td>1.4</td>\n",
       "      <td>0.2</td>\n",
       "      <td>5.1</td>\n",
       "      <td>3.5</td>\n",
       "      <td>setosa</td>\n",
       "    </tr>\n",
       "    <tr>\n",
       "      <th>1</th>\n",
       "      <td>1.4</td>\n",
       "      <td>0.2</td>\n",
       "      <td>4.9</td>\n",
       "      <td>3.0</td>\n",
       "      <td>setosa</td>\n",
       "    </tr>\n",
       "    <tr>\n",
       "      <th>2</th>\n",
       "      <td>1.3</td>\n",
       "      <td>0.2</td>\n",
       "      <td>4.7</td>\n",
       "      <td>3.2</td>\n",
       "      <td>setosa</td>\n",
       "    </tr>\n",
       "    <tr>\n",
       "      <th>3</th>\n",
       "      <td>1.5</td>\n",
       "      <td>0.2</td>\n",
       "      <td>4.6</td>\n",
       "      <td>3.1</td>\n",
       "      <td>setosa</td>\n",
       "    </tr>\n",
       "    <tr>\n",
       "      <th>4</th>\n",
       "      <td>1.4</td>\n",
       "      <td>0.2</td>\n",
       "      <td>5.0</td>\n",
       "      <td>3.6</td>\n",
       "      <td>setosa</td>\n",
       "    </tr>\n",
       "  </tbody>\n",
       "</table>\n",
       "</div>"
      ],
      "text/plain": [
       "   petalLength  petalWidth  sepalLength  sepalWidth species\n",
       "0          1.4         0.2          5.1         3.5  setosa\n",
       "1          1.4         0.2          4.9         3.0  setosa\n",
       "2          1.3         0.2          4.7         3.2  setosa\n",
       "3          1.5         0.2          4.6         3.1  setosa\n",
       "4          1.4         0.2          5.0         3.6  setosa"
      ]
     },
     "execution_count": 4,
     "metadata": {},
     "output_type": "execute_result"
    }
   ],
   "source": [
    "iris.head()"
   ]
  }
 ],
 "metadata": {
  "kernelspec": {
   "display_name": "Python 2",
   "language": "python",
   "name": "python2"
  },
  "language_info": {
   "codemirror_mode": {
    "name": "ipython",
    "version": 2
   },
   "file_extension": ".py",
   "mimetype": "text/x-python",
   "name": "python",
   "nbconvert_exporter": "python",
   "pygments_lexer": "ipython2",
   "version": "2.7.15"
  }
 },
 "nbformat": 4,
 "nbformat_minor": 2
}
